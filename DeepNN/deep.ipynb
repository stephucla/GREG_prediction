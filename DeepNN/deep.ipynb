{
 "cells": [
  {
   "cell_type": "code",
   "execution_count": 3,
   "metadata": {},
   "outputs": [],
   "source": [
    "import pickle\n",
    "import pandas as pd\n",
    "import torch\n",
    "import torch.nn as nn\n",
    "from torch.utils.data import Dataset, DataLoader, random_split\n",
    "import pytorch_lightning as pl\n",
    "from pytorch_lightning.callbacks.early_stopping import EarlyStopping\n",
    "from lightning.pytorch.tuner import Tuner\n",
    "from sklearn import metrics\n",
    "from scipy.stats import boxcox"
   ]
  },
  {
   "cell_type": "code",
   "execution_count": 2,
   "metadata": {},
   "outputs": [
    {
     "ename": "NameError",
     "evalue": "name 'pickle' is not defined",
     "output_type": "error",
     "traceback": [
      "\u001b[1;31m---------------------------------------------------------------------------\u001b[0m",
      "\u001b[1;31mNameError\u001b[0m                                 Traceback (most recent call last)",
      "\u001b[1;32mc:\\Users\\Edan\\Desktop\\Code\\148\\project\\deep.ipynb Cell 2\u001b[0m line \u001b[0;36m2\n\u001b[0;32m      <a href='vscode-notebook-cell:/c%3A/Users/Edan/Desktop/Code/148/project/deep.ipynb#W1sZmlsZQ%3D%3D?line=0'>1</a>\u001b[0m \u001b[39mwith\u001b[39;00m \u001b[39mopen\u001b[39m(\u001b[39m\"\u001b[39m\u001b[39mtokenizeddata_updated.pkl\u001b[39m\u001b[39m\"\u001b[39m, \u001b[39m\"\u001b[39m\u001b[39mrb\u001b[39m\u001b[39m\"\u001b[39m) \u001b[39mas\u001b[39;00m f:\n\u001b[1;32m----> <a href='vscode-notebook-cell:/c%3A/Users/Edan/Desktop/Code/148/project/deep.ipynb#W1sZmlsZQ%3D%3D?line=1'>2</a>\u001b[0m     df \u001b[39m=\u001b[39m pickle\u001b[39m.\u001b[39mload(f)\n\u001b[0;32m      <a href='vscode-notebook-cell:/c%3A/Users/Edan/Desktop/Code/148/project/deep.ipynb#W1sZmlsZQ%3D%3D?line=2'>3</a>\u001b[0m VOCAB_SIZE \u001b[39m=\u001b[39m \u001b[39m65094\u001b[39m\n",
      "\u001b[1;31mNameError\u001b[0m: name 'pickle' is not defined"
     ]
    }
   ],
   "source": [
    "with open(\"tokenizeddata_updated.pkl\", \"rb\") as f:\n",
    "    df = pickle.load(f)\n",
    "VOCAB_SIZE = 65094"
   ]
  },
  {
   "cell_type": "code",
   "execution_count": 307,
   "metadata": {},
   "outputs": [
    {
     "data": {
      "text/plain": [
       "Biography           2.929097\n",
       "imdbid              2.399577\n",
       "Fantasy             2.277365\n",
       "characters          2.171437\n",
       "Horror              2.073114\n",
       "Mystery             2.008407\n",
       "Sci-Fi              1.769429\n",
       "Adventure           1.619560\n",
       "Romance             1.560062\n",
       "Surprise            1.512680\n",
       "Crime               1.442285\n",
       "Positive            1.436885\n",
       "Sadness             1.420082\n",
       "Negative            1.412095\n",
       "Anger               1.396228\n",
       "Trust               1.380346\n",
       "Joy                 1.318338\n",
       "Fear                1.284241\n",
       "scenes              1.206921\n",
       "Disgust             1.170371\n",
       "Anticipation        1.159067\n",
       "Action              0.946741\n",
       "locations           0.922959\n",
       "Comedy              0.854625\n",
       "Thriller            0.506101\n",
       "percent dialogue    0.299158\n",
       "Top 3               0.057308\n",
       "Drama              -0.283874\n",
       "metascore          -0.293499\n",
       "dtype: float64"
      ]
     },
     "execution_count": 307,
     "metadata": {},
     "output_type": "execute_result"
    }
   ],
   "source": [
    "a = df.drop(columns=[\"synopsis sequences\", \"Unnamed: 0\"])\n",
    "a = (a-a.min())/(a.max()-a.min())\n",
    "a.skew().sort_values(ascending=False)"
   ]
  },
  {
   "cell_type": "code",
   "execution_count": 308,
   "metadata": {},
   "outputs": [],
   "source": [
    "torch.set_float32_matmul_precision('high')"
   ]
  },
  {
   "cell_type": "code",
   "execution_count": 309,
   "metadata": {},
   "outputs": [],
   "source": [
    "class CombinedDataset(Dataset):\n",
    "    def __init__(self, data):\n",
    "        self.sequences = data[\"synopsis sequences\"]\n",
    "        self.metascores = data[\"metascore\"]\n",
    "        self.tabular = data.drop(columns=[\"imdbid\", \"metascore\", \"synopsis sequences\", \"Unnamed: 0\"])\n",
    "        self.tabular = self.tabular.apply(lambda x: x + 1)\n",
    "        for column in self.tabular.columns:\n",
    "            self.tabular[column] = boxcox(self.tabular[column])[0]\n",
    "        self.tabular = (self.tabular-self.tabular.min())/(self.tabular.max()-self.tabular.min())\n",
    "\n",
    "    def __len__(self):\n",
    "        return len(self.tabular)\n",
    "\n",
    "    def __getitem__(self, idx):\n",
    "        if torch.is_tensor(idx):\n",
    "            idx = idx.tolist()\n",
    "\n",
    "        tabular = self.tabular.iloc[idx, 0:]\n",
    "\n",
    "        y = self.metascores.iloc[idx]\n",
    "\n",
    "        tabular = tabular.tolist()\n",
    "        tabular = torch.FloatTensor(tabular)\n",
    "\n",
    "        sequence = self.sequences.iloc[idx]\n",
    "\n",
    "        return sequence, tabular, y"
   ]
  },
  {
   "cell_type": "code",
   "execution_count": 310,
   "metadata": {},
   "outputs": [],
   "source": [
    "def convblock(input_size, output_size, filter_size, stride = 1, maxpool_size = 2):\n",
    "    return nn.Sequential(nn.Conv1d(input_size, output_size, filter_size, stride), nn.ReLU(), nn.MaxPool1d(maxpool_size))"
   ]
  },
  {
   "cell_type": "code",
   "execution_count": 440,
   "metadata": {},
   "outputs": [],
   "source": [
    "class CombinedModel(pl.LightningModule):\n",
    "    def __init__(self, num_workers: int = 4, batch_size: int = 32, lr: float = 0.001365158322401656, embedsize: int = 300):\n",
    "        super().__init__()\n",
    "        self.lr = lr\n",
    "        self.num_workers = num_workers\n",
    "        self.batch_size = batch_size\n",
    "\n",
    "        self.criterion = nn.MSELoss\n",
    "\n",
    "        self.embeddings = nn.Embedding(VOCAB_SIZE, embedsize)\n",
    "\n",
    "        self.convos = nn.Sequential(convblock(embedsize, 512, 2),\n",
    "                                    convblock(512, 256, 3),\n",
    "                                    convblock(256, 128, 4),\n",
    "                                    convblock(128, 32, 5),\n",
    "                                    )\n",
    "\n",
    "        self.convnet = nn.Sequential(nn.Linear(13888, 200),\n",
    "                                    #  nn.Dropout(p=0.5),\n",
    "                                     nn.ReLU(),\n",
    "                                     nn.Linear(200, 32),\n",
    "                                     nn.ReLU(),\n",
    "                                     )\n",
    "\n",
    "        self.tabnet = nn.Sequential(nn.Linear(27, 800),\n",
    "                                    nn.LeakyReLU(),\n",
    "                                    nn.Linear(800, 600),\n",
    "                                    nn.LeakyReLU(),\n",
    "                                    nn.Linear(600, 64),\n",
    "                                    nn.LeakyReLU(),\n",
    "                                    # nn.Dropout(p=0.5),\n",
    "                                    nn.Linear(64, 600),\n",
    "                                    nn.LeakyReLU(),\n",
    "                                    nn.Linear(600, 20),\n",
    "                                    nn.LeakyReLU(),\n",
    "                                    )\n",
    "        \n",
    "        self.combonet = nn.Sequential(nn.Linear(20 + 32, 32),\n",
    "                                      nn.Dropout(p=0.5),\n",
    "                                      nn.LeakyReLU(),\n",
    "                                      nn.Linear(32, 1),\n",
    "                                      )\n",
    "\n",
    "    def forward(self, seq, tab):\n",
    "        seq = self.embeddings(seq)\n",
    "        seq = torch.transpose(seq, 1, 2)\n",
    "        seq = self.convos(seq)\n",
    "        seq = seq.reshape(seq.shape[0], -1)\n",
    "        seq = self.convnet(seq)\n",
    "\n",
    "        tab = self.tabnet(tab)\n",
    "\n",
    "        x = torch.cat((seq, tab), dim=1)\n",
    "        return self.combonet(x)\n",
    "    \n",
    "    def training_step(self, batch, batch_idx):\n",
    "        seq, tabular, y = batch\n",
    "\n",
    "        criterion = self.criterion()\n",
    "        y_pred = torch.flatten(self(seq, tabular))\n",
    "        y_pred = y_pred.double()\n",
    "\n",
    "        loss = criterion(y_pred, y)\n",
    "\n",
    "        self.log(\"train_loss_L1\", torch.nn.L1Loss()(y_pred, y))\n",
    "        self.log(\"train_loss\", loss)\n",
    "        return loss\n",
    "\n",
    "    def validation_step(self, batch, batch_idx):\n",
    "        seq, tabular, y = batch\n",
    "\n",
    "        criterion = self.criterion()\n",
    "        y_pred = torch.flatten(self(seq, tabular))\n",
    "        y_pred = y_pred.double()\n",
    "\n",
    "        val_loss = criterion(y_pred, y)\n",
    "\n",
    "        self.log(\"validation_loss_L1\", torch.nn.L1Loss()(y_pred, y))\n",
    "        self.log(\"validation_loss\", val_loss)\n",
    "        return val_loss\n",
    "\n",
    "    def test_step(self, batch, batch_idx):\n",
    "        seq, tabular, y = batch\n",
    "\n",
    "        criterion = self.criterion()\n",
    "        y_pred = torch.flatten(self(seq, tabular))\n",
    "        y_pred = y_pred.double()\n",
    "\n",
    "        test_loss = criterion(y_pred, y)\n",
    "        self.log(\"test_loss_L1\", torch.nn.L1Loss()(y_pred, y))\n",
    "        self.log(\"test_loss\", test_loss)\n",
    "        return test_loss\n",
    "    \n",
    "    def setup(self, stage):\n",
    "\n",
    "        data = CombinedDataset(df)\n",
    "\n",
    "        self.train_set, self.val_set, self.test_set = random_split(data, (0.7, 0.2, 0.1))\n",
    "\n",
    "    def configure_optimizers(self):\n",
    "        return torch.optim.Adam(self.parameters(), lr=(self.lr), weight_decay=0.0)\n",
    "\n",
    "    def train_dataloader(self):\n",
    "        return DataLoader(self.train_set, batch_size=self.batch_size, pin_memory=True)\n",
    "\n",
    "    def val_dataloader(self):\n",
    "        return DataLoader(self.val_set, batch_size=self.batch_size, pin_memory=True)\n",
    "\n",
    "    def test_dataloader(self):\n",
    "        return DataLoader(self.test_set, batch_size=self.batch_size, pin_memory=True)\n",
    "    \n",
    "    def predict_dataloader(self):\n",
    "        return DataLoader(CombinedDataset(df), batch_size=self.batch_size, pin_memory=True)\n",
    "\n",
    "    def predict_step(self, batch, batch_idx, dataloader_idx=0):\n",
    "        seq, tabular, _ = batch\n",
    "        return torch.flatten(self(seq, tabular))"
   ]
  },
  {
   "cell_type": "code",
   "execution_count": 441,
   "metadata": {},
   "outputs": [
    {
     "name": "stderr",
     "output_type": "stream",
     "text": [
      "GPU available: True (cuda), used: True\n",
      "TPU available: False, using: 0 TPU cores\n",
      "IPU available: False, using: 0 IPUs\n",
      "HPU available: False, using: 0 HPUs\n"
     ]
    }
   ],
   "source": [
    "model = CombinedModel()\n",
    "trainer = pl.Trainer(accelerator=\"gpu\", max_epochs=100, log_every_n_steps=5, callbacks=[EarlyStopping(monitor=\"validation_loss_L1\", mode=\"min\", patience=12, min_delta=2)])\n",
    "tuner = Tuner(trainer)"
   ]
  },
  {
   "cell_type": "code",
   "execution_count": 442,
   "metadata": {},
   "outputs": [
    {
     "name": "stderr",
     "output_type": "stream",
     "text": [
      "LOCAL_RANK: 0 - CUDA_VISIBLE_DEVICES: [0]\n",
      "\n",
      "  | Name       | Type       | Params\n",
      "------------------------------------------\n",
      "0 | embeddings | Embedding  | 19.5 M\n",
      "1 | convos     | Sequential | 852 K \n",
      "2 | convnet    | Sequential | 2.8 M \n",
      "3 | tabnet     | Sequential | 592 K \n",
      "4 | combonet   | Sequential | 1.7 K \n",
      "------------------------------------------\n",
      "23.8 M    Trainable params\n",
      "0         Non-trainable params\n",
      "23.8 M    Total params\n",
      "95.038    Total estimated model params size (MB)\n"
     ]
    },
    {
     "name": "stdout",
     "output_type": "stream",
     "text": [
      "                                                                           "
     ]
    },
    {
     "name": "stderr",
     "output_type": "stream",
     "text": [
      "C:\\Users\\Edan\\AppData\\Roaming\\Python\\Python311\\site-packages\\pytorch_lightning\\trainer\\connectors\\data_connector.py:441: The 'val_dataloader' does not have many workers which may be a bottleneck. Consider increasing the value of the `num_workers` argument` to `num_workers=15` in the `DataLoader` to improve performance.\n",
      "C:\\Users\\Edan\\AppData\\Roaming\\Python\\Python311\\site-packages\\pytorch_lightning\\trainer\\connectors\\data_connector.py:441: The 'train_dataloader' does not have many workers which may be a bottleneck. Consider increasing the value of the `num_workers` argument` to `num_workers=15` in the `DataLoader` to improve performance.\n"
     ]
    },
    {
     "name": "stdout",
     "output_type": "stream",
     "text": [
      "Epoch 13: 100%|██████████| 28/28 [00:03<00:00,  8.88it/s, v_num=271]\n"
     ]
    },
    {
     "name": "stderr",
     "output_type": "stream",
     "text": [
      "LOCAL_RANK: 0 - CUDA_VISIBLE_DEVICES: [0]\n",
      "C:\\Users\\Edan\\AppData\\Roaming\\Python\\Python311\\site-packages\\pytorch_lightning\\trainer\\connectors\\data_connector.py:441: The 'test_dataloader' does not have many workers which may be a bottleneck. Consider increasing the value of the `num_workers` argument` to `num_workers=15` in the `DataLoader` to improve performance.\n"
     ]
    },
    {
     "name": "stdout",
     "output_type": "stream",
     "text": [
      "Testing DataLoader 0: 100%|██████████| 4/4 [00:00<00:00, 27.40it/s]\n"
     ]
    },
    {
     "data": {
      "text/html": [
       "<pre style=\"white-space:pre;overflow-x:auto;line-height:normal;font-family:Menlo,'DejaVu Sans Mono',consolas,'Courier New',monospace\">┏━━━━━━━━━━━━━━━━━━━━━━━━━━━┳━━━━━━━━━━━━━━━━━━━━━━━━━━━┓\n",
       "┃<span style=\"font-weight: bold\">        Test metric        </span>┃<span style=\"font-weight: bold\">       DataLoader 0        </span>┃\n",
       "┡━━━━━━━━━━━━━━━━━━━━━━━━━━━╇━━━━━━━━━━━━━━━━━━━━━━━━━━━┩\n",
       "│<span style=\"color: #008080; text-decoration-color: #008080\">         test_loss         </span>│<span style=\"color: #800080; text-decoration-color: #800080\">     144.670531695612      </span>│\n",
       "│<span style=\"color: #008080; text-decoration-color: #008080\">       test_loss_L1        </span>│<span style=\"color: #800080; text-decoration-color: #800080\">     9.141606361146957     </span>│\n",
       "└───────────────────────────┴───────────────────────────┘\n",
       "</pre>\n"
      ],
      "text/plain": [
       "┏━━━━━━━━━━━━━━━━━━━━━━━━━━━┳━━━━━━━━━━━━━━━━━━━━━━━━━━━┓\n",
       "┃\u001b[1m \u001b[0m\u001b[1m       Test metric       \u001b[0m\u001b[1m \u001b[0m┃\u001b[1m \u001b[0m\u001b[1m      DataLoader 0       \u001b[0m\u001b[1m \u001b[0m┃\n",
       "┡━━━━━━━━━━━━━━━━━━━━━━━━━━━╇━━━━━━━━━━━━━━━━━━━━━━━━━━━┩\n",
       "│\u001b[36m \u001b[0m\u001b[36m        test_loss        \u001b[0m\u001b[36m \u001b[0m│\u001b[35m \u001b[0m\u001b[35m    144.670531695612     \u001b[0m\u001b[35m \u001b[0m│\n",
       "│\u001b[36m \u001b[0m\u001b[36m      test_loss_L1       \u001b[0m\u001b[36m \u001b[0m│\u001b[35m \u001b[0m\u001b[35m    9.141606361146957    \u001b[0m\u001b[35m \u001b[0m│\n",
       "└───────────────────────────┴───────────────────────────┘\n"
      ]
     },
     "metadata": {},
     "output_type": "display_data"
    },
    {
     "data": {
      "text/plain": [
       "[{'test_loss_L1': 9.141606361146957, 'test_loss': 144.670531695612}]"
      ]
     },
     "execution_count": 442,
     "metadata": {},
     "output_type": "execute_result"
    }
   ],
   "source": [
    "# tuner.lr_find(model)\n",
    "trainer.fit(model)\n",
    "trainer.test(model)"
   ]
  },
  {
   "cell_type": "code",
   "execution_count": 443,
   "metadata": {},
   "outputs": [
    {
     "name": "stderr",
     "output_type": "stream",
     "text": [
      "Restoring states from the checkpoint path at c:\\Users\\Edan\\Desktop\\Code\\148\\project\\lightning_logs\\version_271\\checkpoints\\epoch=13-step=392.ckpt\n",
      "LOCAL_RANK: 0 - CUDA_VISIBLE_DEVICES: [0]\n",
      "Loaded model weights from the checkpoint at c:\\Users\\Edan\\Desktop\\Code\\148\\project\\lightning_logs\\version_271\\checkpoints\\epoch=13-step=392.ckpt\n",
      "C:\\Users\\Edan\\AppData\\Roaming\\Python\\Python311\\site-packages\\pytorch_lightning\\trainer\\connectors\\data_connector.py:441: The 'predict_dataloader' does not have many workers which may be a bottleneck. Consider increasing the value of the `num_workers` argument` to `num_workers=15` in the `DataLoader` to improve performance.\n"
     ]
    },
    {
     "name": "stdout",
     "output_type": "stream",
     "text": [
      "Predicting DataLoader 0: 100%|██████████| 40/40 [00:01<00:00, 26.56it/s]\n"
     ]
    }
   ],
   "source": [
    "out = trainer.predict(model, ckpt_path=\"best\")\n",
    "preds = []\n",
    "for ten in out:\n",
    "    preds.extend(ten.tolist())\n",
    "\n",
    "df2 = df.copy()\n",
    "df2[\"predicted\"] = df2.apply(lambda x: preds[x.name],axis=1)"
   ]
  },
  {
   "cell_type": "code",
   "execution_count": 1,
   "metadata": {},
   "outputs": [
    {
     "ename": "NameError",
     "evalue": "name 'metrics' is not defined",
     "output_type": "error",
     "traceback": [
      "\u001b[1;31m---------------------------------------------------------------------------\u001b[0m",
      "\u001b[1;31mNameError\u001b[0m                                 Traceback (most recent call last)",
      "\u001b[1;32mc:\\Users\\Edan\\Desktop\\Code\\148\\project\\deep.ipynb Cell 11\u001b[0m line \u001b[0;36m1\n\u001b[1;32m----> <a href='vscode-notebook-cell:/c%3A/Users/Edan/Desktop/Code/148/project/deep.ipynb#X13sZmlsZQ%3D%3D?line=0'>1</a>\u001b[0m r2 \u001b[39m=\u001b[39m metrics\u001b[39m.\u001b[39mr2_score(df2[\u001b[39m\"\u001b[39m\u001b[39mmetascore\u001b[39m\u001b[39m\"\u001b[39m]\u001b[39m.\u001b[39mvalues, df2[\u001b[39m\"\u001b[39m\u001b[39mpredicted\u001b[39m\u001b[39m\"\u001b[39m]\u001b[39m.\u001b[39mvalues)\n\u001b[0;32m      <a href='vscode-notebook-cell:/c%3A/Users/Edan/Desktop/Code/148/project/deep.ipynb#X13sZmlsZQ%3D%3D?line=1'>2</a>\u001b[0m mae \u001b[39m=\u001b[39m metrics\u001b[39m.\u001b[39mmean_absolute_error(df2[\u001b[39m\"\u001b[39m\u001b[39mmetascore\u001b[39m\u001b[39m\"\u001b[39m]\u001b[39m.\u001b[39mvalues, df2[\u001b[39m\"\u001b[39m\u001b[39mpredicted\u001b[39m\u001b[39m\"\u001b[39m]\u001b[39m.\u001b[39mvalues)\n\u001b[0;32m      <a href='vscode-notebook-cell:/c%3A/Users/Edan/Desktop/Code/148/project/deep.ipynb#X13sZmlsZQ%3D%3D?line=2'>3</a>\u001b[0m \u001b[39mprint\u001b[39m(\u001b[39m\"\u001b[39m\u001b[39mr2: \u001b[39m\u001b[39m\"\u001b[39m,r2, \u001b[39m\"\u001b[39m\u001b[39m\\n\u001b[39;00m\u001b[39mmae: \u001b[39m\u001b[39m\"\u001b[39m, mae)\n",
      "\u001b[1;31mNameError\u001b[0m: name 'metrics' is not defined"
     ]
    }
   ],
   "source": [
    "r2 = metrics.r2_score(df2[\"metascore\"].values, df2[\"predicted\"].values)\n",
    "mae = metrics.mean_absolute_error(df2[\"metascore\"].values, df2[\"predicted\"].values)\n",
    "print(\"r2: \",r2, \"\\nmae: \", mae)"
   ]
  },
  {
   "cell_type": "code",
   "execution_count": 450,
   "metadata": {},
   "outputs": [
    {
     "data": {
      "text/plain": [
       "<Axes: >"
      ]
     },
     "execution_count": 450,
     "metadata": {},
     "output_type": "execute_result"
    },
    {
     "data": {
      "image/png": "[encoded data removed]",
      "text/plain": [
       "<Figure size 640x480 with 1 Axes>"
      ]
     },
     "metadata": {},
     "output_type": "display_data"
    }
   ],
   "source": [
    "df2[\"predicted\"].hist(bins=10)"
   ]
  },
  {
   "cell_type": "code",
   "execution_count": 448,
   "metadata": {},
   "outputs": [
    {
     "data": {
      "text/plain": [
       "<Axes: >"
      ]
     },
     "execution_count": 448,
     "metadata": {},
     "output_type": "execute_result"
    },
    {
     "data": {
      "image/png": "[encoded data removed]",
      "text/plain": [
       "<Figure size 640x480 with 1 Axes>"
      ]
     },
     "metadata": {},
     "output_type": "display_data"
    }
   ],
   "source": [
    "df2[\"metascore\"].hist(bins=10)"
   ]
  }
 ],
 "metadata": {
  "kernelspec": {
   "display_name": "Python 3",
   "language": "python",
   "name": "python3"
  },
  "language_info": {
   "codemirror_mode": {
    "name": "ipython",
    "version": 3
   },
   "file_extension": ".py",
   "mimetype": "text/x-python",
   "name": "python",
   "nbconvert_exporter": "python",
   "pygments_lexer": "ipython3",
   "version": "3.11.6"
  }
 },
 "nbformat": 4,
 "nbformat_minor": 2
}
